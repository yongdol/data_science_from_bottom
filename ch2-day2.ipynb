{
 "cells": [
  {
   "cell_type": "code",
   "execution_count": 4,
   "metadata": {
    "collapsed": true
   },
   "outputs": [],
   "source": [
    "x = [1,2,3]"
   ]
  },
  {
   "cell_type": "code",
   "execution_count": 5,
   "metadata": {
    "collapsed": true
   },
   "outputs": [],
   "source": [
    "x.append([4,5,6])"
   ]
  },
  {
   "cell_type": "code",
   "execution_count": 6,
   "metadata": {
    "collapsed": false
   },
   "outputs": [
    {
     "data": {
      "text/plain": [
       "[1, 2, 3, [4, 5, 6]]"
      ]
     },
     "execution_count": 6,
     "metadata": {},
     "output_type": "execute_result"
    }
   ],
   "source": [
    "x"
   ]
  },
  {
   "cell_type": "code",
   "execution_count": 14,
   "metadata": {
    "collapsed": false
   },
   "outputs": [
    {
     "name": "stdout",
     "output_type": "stream",
     "text": [
      "GivemeyourgivemeyourgivemeyourattentionbabyIgottotellyoualittlesomethingaboutyourselfYourewonderful,flawless,oohyoureasexyladyButyouwalkaroundherelikeyouwannabesomeoneelse\n",
      "e 24\n",
      "o 20\n",
      "u 13\n",
      "l 12\n",
      "t 11\n"
     ]
    }
   ],
   "source": [
    "from collections import Counter\n",
    "words = \"Give me your give me your give me your attention baby\\\n",
    "I got to tell you a little something about yourself\\\n",
    "Youre wonderful, flawless, ooh youre a sexy lady\\\n",
    "But you walk around here like you wanna be someone else\"\n",
    "full_sentence = words.replace(' ','')\n",
    "print(full_sentence)\n",
    "words_count = Counter(full_sentence)\n",
    "\n",
    "for word, count in words_count.most_common(5):\n",
    "    print(word, count)\n"
   ]
  },
  {
   "cell_type": "code",
   "execution_count": 17,
   "metadata": {
    "collapsed": true
   },
   "outputs": [],
   "source": [
    "pairs = [(x,y)\n",
    "        for x in range(10)\n",
    "        for y in range(3)]"
   ]
  },
  {
   "cell_type": "code",
   "execution_count": 18,
   "metadata": {
    "collapsed": false
   },
   "outputs": [
    {
     "name": "stdout",
     "output_type": "stream",
     "text": [
      "[(0, 0), (0, 1), (0, 2), (1, 0), (1, 1), (1, 2), (2, 0), (2, 1), (2, 2), (3, 0), (3, 1), (3, 2), (4, 0), (4, 1), (4, 2), (5, 0), (5, 1), (5, 2), (6, 0), (6, 1), (6, 2), (7, 0), (7, 1), (7, 2), (8, 0), (8, 1), (8, 2), (9, 0), (9, 1), (9, 2)]\n"
     ]
    }
   ],
   "source": [
    "print(pairs)"
   ]
  },
  {
   "cell_type": "code",
   "execution_count": 21,
   "metadata": {
    "collapsed": true
   },
   "outputs": [],
   "source": [
    "def exp(base, power):\n",
    "    return base ** power\n",
    "\n",
    "#1)\n",
    "# def two_to_the(power):\n",
    "#     return exp(2, power)\n",
    "\n",
    "#2)\n",
    "from functools import partial\n",
    "two_to_the = partial(exp, 2)"
   ]
  },
  {
   "cell_type": "code",
   "execution_count": 22,
   "metadata": {
    "collapsed": false
   },
   "outputs": [
    {
     "name": "stdout",
     "output_type": "stream",
     "text": [
      "8\n"
     ]
    }
   ],
   "source": [
    "print(two_to_the(3))"
   ]
  },
  {
   "cell_type": "code",
   "execution_count": 26,
   "metadata": {
    "collapsed": true
   },
   "outputs": [],
   "source": [
    "def double(x):\n",
    "    return 2 * x\n",
    "xs = [1,2,3,4]\n",
    "\n",
    "#1)\n",
    "# twice_xs = [double(x) for x in xs]\n",
    "\n",
    "#2)\n",
    "twice_xs = map(double, xs)"
   ]
  },
  {
   "cell_type": "code",
   "execution_count": 30,
   "metadata": {
    "collapsed": false
   },
   "outputs": [
    {
     "name": "stdout",
     "output_type": "stream",
     "text": [
      "<map object at 0x103034b00>\n"
     ]
    }
   ],
   "source": [
    "print(twice_xs)\n"
   ]
  },
  {
   "cell_type": "code",
   "execution_count": 31,
   "metadata": {
    "collapsed": true
   },
   "outputs": [],
   "source": [
    "list_doubler = partial(map, double)\n",
    "\n",
    "twice_xs = list_doubler(xs)"
   ]
  },
  {
   "cell_type": "code",
   "execution_count": 32,
   "metadata": {
    "collapsed": false
   },
   "outputs": [
    {
     "name": "stdout",
     "output_type": "stream",
     "text": [
      "<map object at 0x10302c0f0>\n"
     ]
    }
   ],
   "source": [
    "print(twice_xs)"
   ]
  },
  {
   "cell_type": "code",
   "execution_count": null,
   "metadata": {
    "collapsed": true
   },
   "outputs": [],
   "source": []
  }
 ],
 "metadata": {
  "kernelspec": {
   "display_name": "Python 3",
   "language": "python",
   "name": "python3"
  },
  "language_info": {
   "codemirror_mode": {
    "name": "ipython",
    "version": 3
   },
   "file_extension": ".py",
   "mimetype": "text/x-python",
   "name": "python",
   "nbconvert_exporter": "python",
   "pygments_lexer": "ipython3",
   "version": "3.4.3"
  }
 },
 "nbformat": 4,
 "nbformat_minor": 2
}
