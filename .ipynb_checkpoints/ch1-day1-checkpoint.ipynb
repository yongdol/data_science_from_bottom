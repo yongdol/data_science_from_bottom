{
 "cells": [
  {
   "cell_type": "code",
   "execution_count": 29,
   "metadata": {
    "collapsed": true
   },
   "outputs": [],
   "source": [
    "users = [\n",
    "        {\"id\": 0, \"name\": \"Hero\"},\n",
    "        {\"id\": 1, \"name\": \"Dunn\"},\n",
    "        {\"id\": 2, \"name\": \"Sue\"},\n",
    "        {\"id\": 3, \"name\": \"Chi\"},\n",
    "        {\"id\": 4, \"name\": \"Thor\"},\n",
    "        {\"id\": 5, \"name\": \"Clive\"},\n",
    "        {\"id\": 6, \"name\": \"Hicks\"},\n",
    "        {\"id\": 7, \"name\": \"Devin\"},\n",
    "        {\"id\": 8, \"name\": \"Kate\"},\n",
    "        {\"id\": 9, \"name\": \"Klein\"},\n",
    "]\n",
    "\n",
    "friendships = [(0,1), (0,2), (1,2), (1,3), (2,3), (3,4), (4,5), (5,6),(5,7), (6,8),(7,8), (8,9)]\n",
    "\n",
    "\n"
   ]
  },
  {
   "cell_type": "code",
   "execution_count": 30,
   "metadata": {
    "collapsed": false
   },
   "outputs": [
    {
     "name": "stdout",
     "output_type": "stream",
     "text": [
      "{'id': 0, 'name': 'Hero'}\n"
     ]
    }
   ],
   "source": [
    "print(users[0])\n"
   ]
  },
  {
   "cell_type": "code",
   "execution_count": 31,
   "metadata": {
    "collapsed": false
   },
   "outputs": [],
   "source": [
    "for user in users:\n",
    "    user[\"friends\"] = []\n",
    "\n",
    "for i,j in friendships:\n",
    "    users[i][\"friends\"].append(users[j])\n",
    "    users[j][\"friends\"].append(users[i])\n"
   ]
  },
  {
   "cell_type": "code",
   "execution_count": 44,
   "metadata": {
    "collapsed": false
   },
   "outputs": [
    {
     "name": "stdout",
     "output_type": "stream",
     "text": [
      "{'id': 0, 'friends': [{'id': 1, 'friends': [{...}, {'id': 2, 'friends': [{...}, {...}, {'id': 3, 'friends': [{...}, {...}, {'id': 4, 'friends': [{...}, {'id': 5, 'friends': [{...}, {'id': 6, 'friends': [{...}, {'id': 8, 'friends': [{...}, {'id': 7, 'friends': [{...}, {...}], 'name': 'Devin'}, {'id': 9, 'friends': [{...}], 'name': 'Klein'}], 'name': 'Kate'}], 'name': 'Hicks'}, {'id': 7, 'friends': [{...}, {'id': 8, 'friends': [{'id': 6, 'friends': [{...}, {...}], 'name': 'Hicks'}, {...}, {'id': 9, 'friends': [{...}], 'name': 'Klein'}], 'name': 'Kate'}], 'name': 'Devin'}], 'name': 'Clive'}], 'name': 'Thor'}], 'name': 'Chi'}], 'name': 'Sue'}, {'id': 3, 'friends': [{...}, {'id': 2, 'friends': [{...}, {...}, {...}], 'name': 'Sue'}, {'id': 4, 'friends': [{...}, {'id': 5, 'friends': [{...}, {'id': 6, 'friends': [{...}, {'id': 8, 'friends': [{...}, {'id': 7, 'friends': [{...}, {...}], 'name': 'Devin'}, {'id': 9, 'friends': [{...}], 'name': 'Klein'}], 'name': 'Kate'}], 'name': 'Hicks'}, {'id': 7, 'friends': [{...}, {'id': 8, 'friends': [{'id': 6, 'friends': [{...}, {...}], 'name': 'Hicks'}, {...}, {'id': 9, 'friends': [{...}], 'name': 'Klein'}], 'name': 'Kate'}], 'name': 'Devin'}], 'name': 'Clive'}], 'name': 'Thor'}], 'name': 'Chi'}], 'name': 'Dunn'}, {'id': 2, 'friends': [{...}, {'id': 1, 'friends': [{...}, {...}, {'id': 3, 'friends': [{...}, {...}, {'id': 4, 'friends': [{...}, {'id': 5, 'friends': [{...}, {'id': 6, 'friends': [{...}, {'id': 8, 'friends': [{...}, {'id': 7, 'friends': [{...}, {...}], 'name': 'Devin'}, {'id': 9, 'friends': [{...}], 'name': 'Klein'}], 'name': 'Kate'}], 'name': 'Hicks'}, {'id': 7, 'friends': [{...}, {'id': 8, 'friends': [{'id': 6, 'friends': [{...}, {...}], 'name': 'Hicks'}, {...}, {'id': 9, 'friends': [{...}], 'name': 'Klein'}], 'name': 'Kate'}], 'name': 'Devin'}], 'name': 'Clive'}], 'name': 'Thor'}], 'name': 'Chi'}], 'name': 'Dunn'}, {'id': 3, 'friends': [{'id': 1, 'friends': [{...}, {...}, {...}], 'name': 'Dunn'}, {...}, {'id': 4, 'friends': [{...}, {'id': 5, 'friends': [{...}, {'id': 6, 'friends': [{...}, {'id': 8, 'friends': [{...}, {'id': 7, 'friends': [{...}, {...}], 'name': 'Devin'}, {'id': 9, 'friends': [{...}], 'name': 'Klein'}], 'name': 'Kate'}], 'name': 'Hicks'}, {'id': 7, 'friends': [{...}, {'id': 8, 'friends': [{'id': 6, 'friends': [{...}, {...}], 'name': 'Hicks'}, {...}, {'id': 9, 'friends': [{...}], 'name': 'Klein'}], 'name': 'Kate'}], 'name': 'Devin'}], 'name': 'Clive'}], 'name': 'Thor'}], 'name': 'Chi'}], 'name': 'Sue'}], 'name': 'Hero'}\n"
     ]
    }
   ],
   "source": [
    "print(users[0])"
   ]
  },
  {
   "cell_type": "code",
   "execution_count": 45,
   "metadata": {
    "collapsed": false
   },
   "outputs": [],
   "source": [
    "def number_of_friends(user):\n",
    "    return len(user[\"friends\"])\n",
    "total_connects = sum(number_of_friends(user) for user in users)"
   ]
  },
  {
   "cell_type": "code",
   "execution_count": 46,
   "metadata": {
    "collapsed": false
   },
   "outputs": [
    {
     "name": "stdout",
     "output_type": "stream",
     "text": [
      "24\n"
     ]
    }
   ],
   "source": [
    "print(total_connects)"
   ]
  },
  {
   "cell_type": "code",
   "execution_count": 47,
   "metadata": {
    "collapsed": true
   },
   "outputs": [],
   "source": [
    "from __future__ import division\n",
    "num_users = len(users)\n",
    "avg_connections = total_connects / num_users"
   ]
  },
  {
   "cell_type": "code",
   "execution_count": 48,
   "metadata": {
    "collapsed": false
   },
   "outputs": [
    {
     "name": "stdout",
     "output_type": "stream",
     "text": [
      "2.4\n"
     ]
    }
   ],
   "source": [
    "print(avg_connections)"
   ]
  },
  {
   "cell_type": "code",
   "execution_count": 49,
   "metadata": {
    "collapsed": true
   },
   "outputs": [],
   "source": [
    "num_friends_by_id = [(user[\"id\"], number_of_friends(user)) for user in users]"
   ]
  },
  {
   "cell_type": "code",
   "execution_count": 52,
   "metadata": {
    "collapsed": false
   },
   "outputs": [
    {
     "name": "stdout",
     "output_type": "stream",
     "text": [
      "[(0, 2), (1, 3), (2, 3), (3, 3), (4, 2), (5, 3), (6, 2), (7, 2), (8, 3), (9, 1)]\n"
     ]
    }
   ],
   "source": [
    "print(num_friends_by_id)"
   ]
  },
  {
   "cell_type": "code",
   "execution_count": 53,
   "metadata": {
    "collapsed": false
   },
   "outputs": [],
   "source": [
    "def friends_of_friends_ids_bad(user):\n",
    "    return [foaf[\"id\"] for friend in user[\"friends\"] for foaf in friend[\"friends\"]]"
   ]
  },
  {
   "cell_type": "code",
   "execution_count": 55,
   "metadata": {
    "collapsed": false
   },
   "outputs": [
    {
     "data": {
      "text/plain": [
       "[0, 2, 3, 0, 1, 3]"
      ]
     },
     "execution_count": 55,
     "metadata": {},
     "output_type": "execute_result"
    }
   ],
   "source": [
    "friends_of_friends_ids_bad(users[0])"
   ]
  },
  {
   "cell_type": "code",
   "execution_count": 59,
   "metadata": {
    "collapsed": false
   },
   "outputs": [],
   "source": [
    "from collections import Counter\n",
    "\n",
    "def not_the_same(user, other_user):\n",
    "    return user[\"id\"] != other_user[\"id\"]\n",
    "\n",
    "def not_friends(user, other_user):\n",
    "    return all(not_the_same(friend, other_user) for friend in user[\"friends\"])\n",
    "\n",
    "def friends_of_friends_ids(user):\n",
    "    return Counter(foaf[\"id\"]\n",
    "                  for friend in user[\"friends\"]\n",
    "                  for foaf in friend[\"friends\"]\n",
    "                  if not_the_same(user, foaf)\n",
    "                  and not_friends(user, foaf))"
   ]
  },
  {
   "cell_type": "code",
   "execution_count": 60,
   "metadata": {
    "collapsed": false
   },
   "outputs": [
    {
     "name": "stdout",
     "output_type": "stream",
     "text": [
      "Counter({0: 2, 5: 1})\n"
     ]
    }
   ],
   "source": [
    "print(friends_of_friends_ids(users[3]))"
   ]
  },
  {
   "cell_type": "code",
   "execution_count": 61,
   "metadata": {
    "collapsed": false
   },
   "outputs": [
    {
     "name": "stdout",
     "output_type": "stream",
     "text": [
      "Counter({8: 2, 3: 1})\n"
     ]
    }
   ],
   "source": [
    "print(friends_of_friends_ids(users[5]))"
   ]
  },
  {
   "cell_type": "code",
   "execution_count": 62,
   "metadata": {
    "collapsed": true
   },
   "outputs": [],
   "source": [
    "interests = [\n",
    "    (0, \"Hadoop\"), (0, \"Big Data\"), (0, \"HBase\"), (0, \"Java\"),\n",
    "    (0, \"Spark\"), (0, \"Storm\"), (0, \"Cassandra\"),\n",
    "    (1, \"NoSQL\"), (1, \"MongoDB\"), (1, \"Cassandra\"), (1, \"HBase\"),\n",
    "    (1, \"Postgres\"), (2, \"Python\"), (2, \"scikit-learn\"), (2, \"scipy\"),\n",
    "    (2, \"numpy\"), (2, \"statsmodels\"), (2, \"pandas\"), (3, \"R\"), (3, \"Python\"),\n",
    "    (3, \"statistics\"), (3, \"regression\"), (3, \"probability\"),\n",
    "    (4, \"machine learning\"), (4, \"regression\"), (4, \"decision trees\"),\n",
    "    (4, \"libsvm\"), (5, \"Python\"), (5, \"R\"), (5, \"Java\"), (5, \"C++\"),\n",
    "    (5, \"Haskell\"), (5, \"programming languages\"), (6, \"statistics\"),\n",
    "    (6, \"probability\"), (6, \"mathematics\"), (6, \"theory\"),\n",
    "    (7, \"machine learning\"), (7, \"scikit-learn\"), (7, \"Mahout\"),\n",
    "    (7, \"neural networks\"), (8, \"neural networks\"), (8, \"deep learning\"),\n",
    "    (8, \"Big Data\"), (8, \"artificial intelligence\"), (9, \"Hadoop\"),\n",
    "    (9, \"Java\"), (9, \"MapReduce\"), (9, \"Big Data\")\n",
    "]"
   ]
  },
  {
   "cell_type": "code",
   "execution_count": 63,
   "metadata": {
    "collapsed": true
   },
   "outputs": [],
   "source": [
    "def data_scientists_who_like(target_interest):\n",
    "    return [user_id \n",
    "     for user_id, user_interest in interests\n",
    "     if user_interest == target_interest]\n",
    "    "
   ]
  },
  {
   "cell_type": "code",
   "execution_count": 66,
   "metadata": {
    "collapsed": false
   },
   "outputs": [],
   "source": [
    "from collections import defaultdict\n",
    "user_ids_by_interest = defaultdict(list)\n",
    "for user_id , interest in interests:\n",
    "    user_ids_by_interest[interest].append(user_id)\n",
    "\n",
    "interests_by_user_id = defaultdict(list)\n",
    "for user_id, interest in interests:\n",
    "    interests_by_user_id[user_id].append(interest)"
   ]
  },
  {
   "cell_type": "code",
   "execution_count": 67,
   "metadata": {
    "collapsed": true
   },
   "outputs": [],
   "source": [
    "def most_common_interests_with(user):\n",
    "    return Counter(interested_user_id\n",
    "                   for interest in interests_by_user_id[user[\"id\"]]\n",
    "                   for interested_user_id in user_ids_by_interest[interest]\n",
    "                   if interested_user_id != user[\"id\"])"
   ]
  },
  {
   "cell_type": "code",
   "execution_count": 69,
   "metadata": {
    "collapsed": false
   },
   "outputs": [
    {
     "data": {
      "text/plain": [
       "Counter({0: 2})"
      ]
     },
     "execution_count": 69,
     "metadata": {},
     "output_type": "execute_result"
    }
   ],
   "source": [
    "most_common_interests_with(users[1])"
   ]
  },
  {
   "cell_type": "code",
   "execution_count": null,
   "metadata": {
    "collapsed": true
   },
   "outputs": [],
   "source": []
  }
 ],
 "metadata": {
  "kernelspec": {
   "display_name": "Python 3",
   "language": "python",
   "name": "python3"
  },
  "language_info": {
   "codemirror_mode": {
    "name": "ipython",
    "version": 3
   },
   "file_extension": ".py",
   "mimetype": "text/x-python",
   "name": "python",
   "nbconvert_exporter": "python",
   "pygments_lexer": "ipython3",
   "version": "3.4.3"
  }
 },
 "nbformat": 4,
 "nbformat_minor": 2
}
